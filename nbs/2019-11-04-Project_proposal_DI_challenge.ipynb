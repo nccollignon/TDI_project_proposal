{
 "cells": [
  {
   "cell_type": "markdown",
   "metadata": {},
   "source": [
    "\n",
    "## Project description\n",
    "In this project, I propose to analyse the carboon footprint of recipes based on pictures. In the long term, users would be able to 1) get an approximation of their carboon footprint from uploading a picture and 2) get low carbon recipe suggestions based on user preferences. Food consumption corresponds to an estimated 15-30% of greenhouse gas emissions. The project builds upon the 1M+ recipe dataset and existing estimates of CO2 emissions of ingredients.\n",
    "It would allow the education of individuals on their individual footprints, and could help inform larger businesses (e.g. restaurants, food suppliers etc.).\n",
    "\n",
    "\n",
    "### Recipe dataset\n",
    "- [github repo](https://github.com/torralba-lab/im2recipe#recipe1m-dataset)\n",
    "- [paper](http://pic2recipe.csail.mit.edu/)\n",
    "\n",
    "### Tmrow database\n",
    "\n",
    "- [github file](https://raw.githubusercontent.com/tmrowco/tmrowapp-contrib/90c0c3f64b6b38dc4201f42cd67300a4ed01524e/co2eq/purchase/footprints.yml)\n",
    "- [repo](https://github.com/tmrowco/tmrowapp-contrib) "
   ]
  },
  {
   "cell_type": "code",
   "execution_count": 1,
   "metadata": {},
   "outputs": [],
   "source": [
    "import json\n",
    "import pandas as pd\n",
    "import numpy as np\n",
    "\n",
    "from tqdm import tqdm\n",
    "import matplotlib.pyplot as plt"
   ]
  },
  {
   "cell_type": "code",
   "execution_count": 2,
   "metadata": {},
   "outputs": [],
   "source": [
    "import json\n",
    "with open('../recipe1M_layers/layer1.json', 'r') as f:\n",
    "    array = json.load(f)"
   ]
  },
  {
   "cell_type": "code",
   "execution_count": 3,
   "metadata": {},
   "outputs": [],
   "source": [
    "import json\n",
    "with open('../recipe1M_layers/det_ingrs.json', 'r') as f:\n",
    "    det_ingrs = json.load(f)"
   ]
  },
  {
   "cell_type": "markdown",
   "metadata": {},
   "source": [
    "let's count the number of entries"
   ]
  },
  {
   "cell_type": "code",
   "execution_count": 17,
   "metadata": {},
   "outputs": [
    {
     "data": {
      "text/plain": [
       "1029720"
      ]
     },
     "execution_count": 17,
     "metadata": {},
     "output_type": "execute_result"
    }
   ],
   "source": [
    "len(det_ingrs)"
   ]
  },
  {
   "cell_type": "markdown",
   "metadata": {},
   "source": [
    "let's count the number of unique ingredients"
   ]
  },
  {
   "cell_type": "code",
   "execution_count": 21,
   "metadata": {},
   "outputs": [],
   "source": [
    "ingr_500 = [[f['text'] for i,f in enumerate(rec['ingredients']) if rec['valid'][i]] for rec in det_ingrs]"
   ]
  },
  {
   "cell_type": "code",
   "execution_count": 23,
   "metadata": {},
   "outputs": [],
   "source": [
    "def flatten(l):\n",
    "    out = []\n",
    "    for item in l:\n",
    "        if isinstance(item, (list, tuple)):\n",
    "            out.extend(flatten(item))\n",
    "        else:\n",
    "            out.append(item)\n",
    "    return out"
   ]
  },
  {
   "cell_type": "code",
   "execution_count": 24,
   "metadata": {},
   "outputs": [],
   "source": [
    "flat_ing = flatten(ingr_500)"
   ]
  },
  {
   "cell_type": "code",
   "execution_count": 27,
   "metadata": {},
   "outputs": [],
   "source": [
    "from collections import Counter"
   ]
  },
  {
   "cell_type": "code",
   "execution_count": 33,
   "metadata": {},
   "outputs": [
    {
     "data": {
      "text/plain": [
       "18253"
      ]
     },
     "execution_count": 33,
     "metadata": {},
     "output_type": "execute_result"
    }
   ],
   "source": [
    "count_ingr = Counter(flat_ing)\n",
    "len (count_ingr.keys())"
   ]
  },
  {
   "cell_type": "markdown",
   "metadata": {},
   "source": [
    "let's first plot the frequency of ingredients in the recipe database"
   ]
  },
  {
   "cell_type": "code",
   "execution_count": 770,
   "metadata": {},
   "outputs": [
    {
     "data": {
      "image/png": "[encoded data removed]",
      "text/plain": [
       "<Figure size 432x288 with 1 Axes>"
      ]
     },
     "metadata": {
      "needs_background": "light"
     },
     "output_type": "display_data"
    }
   ],
   "source": [
    "plt.bar(np.arange(500), [i[1] for i in count_ingr.most_common(500)]);"
   ]
  },
  {
   "cell_type": "markdown",
   "metadata": {},
   "source": [
    "let's now load the tmrow database to calculate approx. CO2 emissions per ingredient"
   ]
  },
  {
   "cell_type": "code",
   "execution_count": 38,
   "metadata": {},
   "outputs": [],
   "source": [
    "import yaml"
   ]
  },
  {
   "cell_type": "code",
   "execution_count": 219,
   "metadata": {},
   "outputs": [],
   "source": [
    "with open(\"../recipe1M_layers/footprints.yml\", 'r') as stream:\n",
    "    try:\n",
    "        file = (yaml.safe_load(stream))\n",
    "    except yaml.YAMLError as exc:\n",
    "        print(exc)"
   ]
  },
  {
   "cell_type": "code",
   "execution_count": 220,
   "metadata": {},
   "outputs": [],
   "source": [
    "food_cats = file['_children']['Food']['_children'].keys()\n",
    "food_tmrow = flatten([list(file['_children']['Food']['_children'][cat]['_children'].keys()) for cat in food_cats])"
   ]
  },
  {
   "cell_type": "code",
   "execution_count": null,
   "metadata": {},
   "outputs": [],
   "source": [
    "let's inspect the categories of food in "
   ]
  },
  {
   "cell_type": "code",
   "execution_count": 221,
   "metadata": {},
   "outputs": [
    {
     "data": {
      "text/plain": [
       "dict_keys(['Beverages', 'Dairy', 'Fruits', 'Grains', 'Meat', 'Nuts', 'Sweets', 'Seafood', 'Vegetables'])"
      ]
     },
     "execution_count": 221,
     "metadata": {},
     "output_type": "execute_result"
    }
   ],
   "source": [
    "food_cats"
   ]
  },
  {
   "cell_type": "markdown",
   "metadata": {},
   "source": [
    "Let's cross reference the two data-sets. We use jaro winkler to measure string similarity. It's not perfect, but it'll do for now. Let's clean the strings in both data sets too.\n",
    "\n",
    "I remove some descriptive words that don't specify the ingredient type/source."
   ]
  },
  {
   "cell_type": "code",
   "execution_count": 224,
   "metadata": {},
   "outputs": [],
   "source": [
    "from Levenshtein import jaro_winkler\n",
    "import string\n",
    "from nltk.tokenize import word_tokenize"
   ]
  },
  {
   "cell_type": "code",
   "execution_count": 564,
   "metadata": {},
   "outputs": [],
   "source": [
    "dirty_words = ['fresh','sea', 'paste','unsalted','sauce','red','light','brown','boneless','skinless','breasts','ground',\n",
    " 'powder', 'dried', 'whole', 'boiling', 'whipping', 'shredded', 'crushed', 'flakes', 'whole', 'low',\n",
    " 'fat', 'semi', 'sweet' , 'flat', 'leaf' , 'hot', 'italian', 'unsweetened', 'plain', 'swiss', \n",
    "  'sodium', 'seasoning', 'rolled', 'nonfat', 'peel', 'chopped', 'of', 'soup', 'boiled', 'roasted', 'sun',\n",
    " 'roma', 'prepared', 'all', 'purpose', 'purpose', 'extract', 'heavy', 'superfine',\n",
    "               'baby', 'freshly', 'extra', 'virgin', 'white', 'great',\n",
    "               'frozen', 'northern', 'marinated', 'pickled', 'self', 'rising', 'coarse', 'flaked', 'dry', \n",
    "              'nonstick', 'maraschino', 'large', 'baking', 'old', 'fashioned',\n",
    "              'quick', 'cooking', 'pancetta', 'salted', 'fine', 'sweetened','unflavored']\n",
    "\n",
    "def clean_str(input_str): \n",
    "    lower_str = input_str.lower()\n",
    "    \n",
    "    text_str = list(filter(lambda token: token not in string.punctuation, lower_str))\n",
    "    text_str = \"\".join(text_str)\n",
    "    text_str = ' '.join(text_str.split())\n",
    "\n",
    "    tokens = word_tokenize(text_str)\n",
    "    \n",
    "    if 'cheese' in tokens:\n",
    "        out = 'cheese'\n",
    "        \n",
    "    else:\n",
    "        tokens = [word for word in tokens if word not in dirty_words]\n",
    "        out = \" \".join(tokens)\n",
    "        out = out.replace(\"bacon\", \"pork\")\n",
    "        out = out.replace(\"prosciutto\", \"pork\")\n",
    "\n",
    "    return out"
   ]
  },
  {
   "cell_type": "markdown",
   "metadata": {},
   "source": [
    "let's clean both lists of ingredients"
   ]
  },
  {
   "cell_type": "code",
   "execution_count": 736,
   "metadata": {},
   "outputs": [],
   "source": [
    "clean_tmrow = np.array([clean_str(i) for i in food_tmrow])\n",
    "clean_rec = np.array([clean_str(i[0]) for i in count_ingr.most_common(1000)])"
   ]
  },
  {
   "cell_type": "markdown",
   "metadata": {},
   "source": [
    "let's keep get the original string and the frequency of the item in the recipe dataset."
   ]
  },
  {
   "cell_type": "code",
   "execution_count": 652,
   "metadata": {},
   "outputs": [],
   "source": [
    "rec_freqs = [i[1] for i in count_ingr.most_common(1000)]\n",
    "raw_rec = [np.array([i[0] for i in count_ingr.most_common(1000)])]"
   ]
  },
  {
   "cell_type": "markdown",
   "metadata": {},
   "source": [
    "calculate jaro winkler score for all items between tmrow and recipe items"
   ]
  },
  {
   "cell_type": "code",
   "execution_count": 567,
   "metadata": {},
   "outputs": [],
   "source": [
    "list_of_jar = [[jaro_winkler(rec_ingr, li) for li in clean_tmrow] for rec_ingr in clean_rec]"
   ]
  },
  {
   "cell_type": "markdown",
   "metadata": {},
   "source": [
    "for each top 1000 ingredient, get top3 (with scores)"
   ]
  },
  {
   "cell_type": "code",
   "execution_count": 763,
   "metadata": {},
   "outputs": [],
   "source": [
    "dict_top1000 = {}\n",
    "for i in range(len(clean_rec)):\n",
    "    dict_top1000[str(i)]={\n",
    "        'word':clean_rec[i],\n",
    "        'similar':[[w,p] for w,p in zip(clean_tmrow[np.array(list_of_jar[i]).argsort()[-3:][::-1]], \n",
    "                       np.array(list_of_jar[i])[np.array(list_of_jar[i]).argsort()[-3:][::-1]])\n",
    "                       ],\n",
    "        'freq': rec_freqs[i],\n",
    "        'raw':raw_rec[0][i]\n",
    "    }"
   ]
  },
  {
   "cell_type": "markdown",
   "metadata": {},
   "source": [
    "number of found items from top1000"
   ]
  },
  {
   "cell_type": "code",
   "execution_count": 764,
   "metadata": {
    "scrolled": true
   },
   "outputs": [],
   "source": [
    "matches = [[dict_top1000[str(i)]] for i in range(len(list_of_jar)) if dict_top1000[str(i)]['similar'][0][1]>0.88]"
   ]
  },
  {
   "cell_type": "code",
   "execution_count": 765,
   "metadata": {},
   "outputs": [],
   "source": [
    "co2_out = []\n",
    "for food_cat in food_cats:\n",
    "    items = file['_children']['Food']['_children'][food_cat]['_children']\n",
    "    for food_item in list(items.keys()):\n",
    "        co2_out.append(items[food_item]['intensityKilograms'])\n",
    "        \n",
    "dict_co2out = {}\n",
    "for i,item in enumerate(clean_tmrow):\n",
    "    dict_co2out[item]=co2_out[i]   "
   ]
  },
  {
   "cell_type": "markdown",
   "metadata": {},
   "source": [
    "## Questions:\n",
    "\n",
    "### A) Can we map the frequency of ingredient vs how much it emits?\n"
   ]
  },
  {
   "cell_type": "code",
   "execution_count": 1016,
   "metadata": {},
   "outputs": [
    {
     "data": {
      "image/png": "[encoded data removed]",
      "text/plain": [
       "<Figure size 576x360 with 1 Axes>"
      ]
     },
     "metadata": {
      "needs_background": "light"
     },
     "output_type": "display_data"
    }
   ],
   "source": [
    "fig = plt.figure(figsize=(8, 5))#\n",
    "ax1 = fig.add_subplot(111)\n",
    "\n",
    "ax1.set_title('Frequency vs CO2 cost of ingredients in 1M+ dataset', size=18)\n",
    "\n",
    "\n",
    "ax1.scatter([dict_co2out[m[0]['similar'][0][0]] for m in matches], (np.array([m[0]['freq']  for m in matches])/len(det_ingrs)),\n",
    "            facecolor='white', edgecolor='b')\n",
    "\n",
    "ax1.spines['top'].set_visible(False)\n",
    "ax1.spines['right'].set_visible(False)\n",
    "\n",
    "ax1.grid(axis='y',color='darkblue', alpha=0.5, linestyle=':')\n",
    "\n",
    "ax1.set_ylabel('frequency in 1M+ Recipes', size=22)\n",
    "ax1.set_xlabel('CO2/kg', size=24)\n",
    "\n",
    "x_beef = np.array([dict_co2out[m[0]['similar'][0][0]] for m in matches])[183]\n",
    "y_beef = (np.array([m[0]['freq']  for m in matches])/len(det_ingrs))[183]\n",
    "ax1.annotate('beef', xy=(x_beef, y_beef), xytext=(x_beef+2, y_beef+.05),size=12,\n",
    "            arrowprops=dict(facecolor='red',arrowstyle='simple'))\n",
    "\n",
    "x_lamb = np.array([dict_co2out[m[0]['similar'][0][0]] for m in matches])[408]\n",
    "y_lamb = (np.array([m[0]['freq']  for m in matches])/len(det_ingrs))[408]\n",
    "ax1.annotate('lamb', xy=(x_lamb, y_lamb), xytext=(x_lamb-2, y_lamb+.05),size=12,\n",
    "            arrowprops=dict(facecolor='red',arrowstyle='simple'))\n",
    "\n",
    "x_lamb = np.array([dict_co2out[m[0]['similar'][0][0]] for m in matches])[0]\n",
    "y_lamb = (np.array([m[0]['freq']  for m in matches])/len(det_ingrs))[0]\n",
    "ax1.annotate('butter', xy=(x_lamb, y_lamb), xytext=(x_lamb+2, y_lamb-.05),size=12,\n",
    "            arrowprops=dict(facecolor='red',arrowstyle='simple'))\n",
    "\n",
    "x_lamb = np.array([dict_co2out[m[0]['similar'][0][0]] for m in matches])[9]\n",
    "y_lamb = (np.array([m[0]['freq']  for m in matches])/len(det_ingrs))[9]\n",
    "ax1.annotate('egg', xy=(x_lamb, y_lamb), xytext=(x_lamb+2, y_lamb+.02),size=12,\n",
    "            arrowprops=dict(facecolor='red',arrowstyle='simple'))\n",
    "\n",
    "x_lamb = np.array([dict_co2out[m[0]['similar'][0][0]] for m in matches])[8]\n",
    "y_lamb = (np.array([m[0]['freq']  for m in matches])/len(det_ingrs))[8]\n",
    "ax1.annotate('onions', xy=(x_lamb, y_lamb), xytext=(x_lamb-1.5, y_lamb+.05),size=12,\n",
    "            arrowprops=dict(facecolor='red',arrowstyle='simple'))\n",
    "\n",
    "ax1.tick_params(axis='both', which='major', labelsize=13)\n",
    "\n",
    "plt.tight_layout()"
   ]
  },
  {
   "cell_type": "markdown",
   "metadata": {},
   "source": [
    "### B) Can we get an estimate of the \"CO2 emission\" distribution of recipes in the dataset   \n",
    "- Note that these are very rough/poor estimations since we're not taking into account proportions, and is tbus more of a proof of concept."
   ]
  },
  {
   "cell_type": "code",
   "execution_count": 935,
   "metadata": {},
   "outputs": [],
   "source": [
    "raw_dict = {}\n",
    "for i in range(len(matches)):\n",
    "    raw_dict[matches[i][0]['raw']]= np.array([dict_co2out[m[0]['similar'][0][0]] for m in matches])[i]"
   ]
  },
  {
   "cell_type": "code",
   "execution_count": 991,
   "metadata": {},
   "outputs": [],
   "source": [
    "def get_co2(recipe_id):\n",
    "    for rec in det_ingrs :\n",
    "        sum_co2 = 0\n",
    "        if rec['id']==recipe_id:\n",
    "            # ingrs_count = 0\n",
    "            ingrs = [f['text'] for i,f in enumerate(rec['ingredients']) if rec['valid'][i]]\n",
    "            ing_exist = [i for i in ingrs if i in list(raw_dict.keys())]\n",
    "            for ing in ing_exist:\n",
    "                sum_co2 += raw_dict[ing]\n",
    "                    # print(raw_dict[ing], ing)\n",
    "                    # ingrs_count+=1\n",
    "            break   \n",
    "    return sum_co2"
   ]
  },
  {
   "cell_type": "code",
   "execution_count": 992,
   "metadata": {},
   "outputs": [],
   "source": [
    "ar_samples = np.random.choice(len(array),1000)\n",
    "ar_samples = np.array(array)[ar_samples]"
   ]
  },
  {
   "cell_type": "code",
   "execution_count": 996,
   "metadata": {},
   "outputs": [
    {
     "data": {
      "text/plain": [
       "'ok'"
      ]
     },
     "execution_count": 996,
     "metadata": {},
     "output_type": "execute_result"
    }
   ],
   "source": [
    "rec_co2 = [[rec['title'], get_co2(rec['id'])] for rec in tqdm(ar_samples)]"
   ]
  },
  {
   "cell_type": "code",
   "execution_count": 1015,
   "metadata": {},
   "outputs": [
    {
     "data": {
      "image/png": "[encoded data removed]",
      "text/plain": [
       "<Figure size 576x360 with 1 Axes>"
      ]
     },
     "metadata": {
      "needs_background": "light"
     },
     "output_type": "display_data"
    }
   ],
   "source": [
    "fig = plt.figure(figsize=(8, 5))#\n",
    "ax1 = fig.add_subplot(111)\n",
    "ax1.set_title('Relative distribution of CO2 for 1k recipes', size=18)\n",
    "ax1.hist([i[1] for i in rec_co2]/(max([i[1] for i in rec_co2])), bins=150);\n",
    "ax1.tick_params(axis='both', which='major', labelsize=13)\n",
    "\n",
    "ax1.set_ylabel('number of recipes', size=22);\n",
    "ax1.set_xlabel('relative CO2 cost', size=24);"
   ]
  },
  {
   "cell_type": "markdown",
   "metadata": {},
   "source": [
    "## Future work:\n",
    "    - better matching/coverage of ingredients to emissions\n",
    "    - take into account portions\n",
    "\n",
    "    - work with embeddings introduced in 1M+ paper to better visualise the dataset\n",
    "    - image to CO2 pipeline"
   ]
  },
  {
   "cell_type": "code",
   "execution_count": null,
   "metadata": {},
   "outputs": [],
   "source": []
  }
 ],
 "metadata": {
  "kernelspec": {
   "display_name": "Python 3",
   "language": "python",
   "name": "python3"
  },
  "toc": {
   "base_numbering": 1,
   "nav_menu": {},
   "number_sections": true,
   "sideBar": true,
   "skip_h1_title": true,
   "title_cell": "Table of Contents",
   "title_sidebar": "Contents",
   "toc_cell": false,
   "toc_position": {},
   "toc_section_display": true,
   "toc_window_display": false
  }
 },
 "nbformat": 4,
 "nbformat_minor": 2
}
