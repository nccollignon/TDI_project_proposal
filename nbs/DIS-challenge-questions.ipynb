{
 "cells": [
  {
   "cell_type": "code",
   "execution_count": 1,
   "metadata": {},
   "outputs": [],
   "source": [
    "import pandas as pd\n",
    "import numpy as np\n",
    "import matplotlib.pyplot as plt"
   ]
  },
  {
   "cell_type": "markdown",
   "metadata": {},
   "source": [
    "# Part 1"
   ]
  },
  {
   "cell_type": "code",
   "execution_count": null,
   "metadata": {},
   "outputs": [],
   "source": [
    "data = pd.read_csv('../Arrest_Data_from_2010_to_Present.csv')"
   ]
  },
  {
   "cell_type": "markdown",
   "metadata": {},
   "source": [
    "## Question 1\n",
    "How many bookings of arrestees were made in 2018?"
   ]
  },
  {
   "cell_type": "code",
   "execution_count": 29,
   "metadata": {},
   "outputs": [],
   "source": [
    "import datetime as dt"
   ]
  },
  {
   "cell_type": "markdown",
   "metadata": {},
   "source": [
    "let's first convert the times to datetime format"
   ]
  },
  {
   "cell_type": "code",
   "execution_count": 20,
   "metadata": {},
   "outputs": [],
   "source": [
    "data[\"Arrest Date\"] = pd.to_datetime(data[\"Arrest Date\"])"
   ]
  },
  {
   "cell_type": "markdown",
   "metadata": {},
   "source": [
    "let's get all the arrests made in 2018"
   ]
  },
  {
   "cell_type": "code",
   "execution_count": 36,
   "metadata": {},
   "outputs": [],
   "source": [
    "data_2018 = data[data['Arrest Date'].dt.year==2018]"
   ]
  },
  {
   "cell_type": "code",
   "execution_count": 38,
   "metadata": {},
   "outputs": [
    {
     "data": {
      "text/plain": [
       "104277"
      ]
     },
     "execution_count": 38,
     "metadata": {},
     "output_type": "execute_result"
    }
   ],
   "source": [
    "len(data_2018)"
   ]
  },
  {
   "cell_type": "markdown",
   "metadata": {},
   "source": [
    "## Question 2 \n",
    "How many bookings of arrestees were made in the area with the most arrests in 2018?\n",
    "\n",
    "--- "
   ]
  },
  {
   "cell_type": "markdown",
   "metadata": {},
   "source": [
    "let's find out which area had most arrests"
   ]
  },
  {
   "cell_type": "code",
   "execution_count": 42,
   "metadata": {},
   "outputs": [],
   "source": [
    "from collections import Counter"
   ]
  },
  {
   "cell_type": "code",
   "execution_count": 44,
   "metadata": {},
   "outputs": [],
   "source": [
    "areas_2018 = Counter(data_2018['Area Name'])"
   ]
  },
  {
   "cell_type": "code",
   "execution_count": 45,
   "metadata": {},
   "outputs": [
    {
     "data": {
      "text/plain": [
       "[('Central', 10951),\n",
       " ('Hollywood', 9715),\n",
       " ('Rampart', 7345),\n",
       " ('Pacific', 6778),\n",
       " ('77th Street', 6259),\n",
       " ('Van Nuys', 6193),\n",
       " ('Southwest', 5927),\n",
       " ('Newton', 5427),\n",
       " ('N Hollywood', 4947),\n",
       " ('Mission', 4357)]"
      ]
     },
     "execution_count": 45,
     "metadata": {},
     "output_type": "execute_result"
    }
   ],
   "source": [
    "areas_2018.most_common(10)"
   ]
  },
  {
   "cell_type": "markdown",
   "metadata": {},
   "source": [
    "## Question 3\n",
    "What is the 95% quantile of the age of the arrestee in 2018? Only consider the following charge groups for your analysis:\n",
    "\n",
    "    Vehicle Theft\n",
    "    Robbery\n",
    "    Burglary\n",
    "    Receive Stolen Property\n",
    "\n"
   ]
  },
  {
   "cell_type": "code",
   "execution_count": 63,
   "metadata": {},
   "outputs": [],
   "source": [
    "list_of_crimes = ['Vehicle Theft', 'Robbery',\n",
    "                'Burglary', 'Receive Stolen Property'] "
   ]
  },
  {
   "cell_type": "code",
   "execution_count": 66,
   "metadata": {
    "scrolled": true
   },
   "outputs": [],
   "source": [
    "data_2018_crimes = data_2018.query(\"`Charge Group Description` in @list_of_crimes\")"
   ]
  },
  {
   "cell_type": "code",
   "execution_count": 167,
   "metadata": {},
   "outputs": [
    {
     "data": {
      "text/plain": [
       "52.0"
      ]
     },
     "execution_count": 167,
     "metadata": {},
     "output_type": "execute_result"
    }
   ],
   "source": [
    "data_2018_crimes['Age'].quantile(0.95)"
   ]
  },
  {
   "cell_type": "markdown",
   "metadata": {},
   "source": [
    "## Question 4 \n",
    "\n",
    "There are differences between the average age of an arrestee for the various charge groups. Are these differences statistically significant? For this question, calculate the Z-score of the average age for each charge group. Report the largest absolute value among the calculated Z-scores.\n",
    "\n",
    "    Only consider data for 2018\n",
    "    Do not consider \"Pre-Delinquency\" and \"Non-Criminal Detention\" as these charge groups are reserved for minors\n",
    "    Exclude any arrests where the charge group description is not known\n",
    "\n"
   ]
  },
  {
   "cell_type": "code",
   "execution_count": 76,
   "metadata": {},
   "outputs": [],
   "source": [
    "from scipy.stats import zscore"
   ]
  },
  {
   "cell_type": "code",
   "execution_count": 108,
   "metadata": {},
   "outputs": [],
   "source": [
    "charge_groups = [i for i in data_2018['Charge Group Description'].unique() if i not in [\"Pre-Delinquency\", \"Non-Criminal Detention\", np.nan]]"
   ]
  },
  {
   "cell_type": "code",
   "execution_count": 136,
   "metadata": {
    "scrolled": true
   },
   "outputs": [],
   "source": [
    "all_ages = data_2018.query(\"`Charge Group Description` in @charge_groups\")['Age']"
   ]
  },
  {
   "cell_type": "markdown",
   "metadata": {},
   "source": [
    "let's check the z scores of the means of each group for the complete 2018 data  (excluding charge groups mentioned in text)"
   ]
  },
  {
   "cell_type": "code",
   "execution_count": 137,
   "metadata": {},
   "outputs": [],
   "source": [
    "zscores = []\n",
    "for i in range(len(charge_groups)):\n",
    "    vals= np.mean(data_2018.query(\"`Charge Group Description`==@charge_groups[@i]\")['Age'].values)\n",
    "    zscores.append(np.abs((vals-np.mean(all_ages))/np.std(all_ages)))"
   ]
  },
  {
   "cell_type": "code",
   "execution_count": 169,
   "metadata": {},
   "outputs": [
    {
     "data": {
      "text/plain": [
       "0.6934321879024"
      ]
     },
     "execution_count": 169,
     "metadata": {},
     "output_type": "execute_result"
    }
   ],
   "source": [
    "max(zscores)"
   ]
  },
  {
   "cell_type": "markdown",
   "metadata": {},
   "source": [
    "this shows there's no significant diff. in age across fellonies, but it's an odd way of measuring it IMO. "
   ]
  },
  {
   "cell_type": "markdown",
   "metadata": {},
   "source": [
    "## Question 5"
   ]
  },
  {
   "cell_type": "markdown",
   "metadata": {},
   "source": [
    "Felony arrest incidents have been dropping over the years. Using a trend line (linear estimation) for the data from 2010 and 2018 (inclusive), what is the projected number of felony arrests in 2019? Round to the nearest integer. Note, the data set includes arrests for misdemeanor, felonies, etc."
   ]
  },
  {
   "cell_type": "code",
   "execution_count": 141,
   "metadata": {},
   "outputs": [],
   "source": [
    "data_pre209 = data[data['Arrest Date'].dt.year<2019]\n",
    "felonies_pre19 = data_pre209.query(\"`Arrest Type Code`=='F'\")"
   ]
  },
  {
   "cell_type": "code",
   "execution_count": 161,
   "metadata": {},
   "outputs": [
    {
     "data": {
      "text/plain": [
       "<matplotlib.collections.PathCollection at 0x137abebd0>"
      ]
     },
     "execution_count": 161,
     "metadata": {},
     "output_type": "execute_result"
    },
    {
     "data": {
      "image/png": "[encoded data removed]",
      "text/plain": [
       "<Figure size 432x288 with 1 Axes>"
      ]
     },
     "metadata": {
      "needs_background": "light"
     },
     "output_type": "display_data"
    }
   ],
   "source": [
    "plt.scatter(np.arange(2010,2019), [sum(felonies_pre19['Arrest Date'].dt.year==ye) for ye in np.arange(2010,2019)])\n",
    "plt.scatter(2019,31037.81)"
   ]
  },
  {
   "cell_type": "code",
   "execution_count": 157,
   "metadata": {},
   "outputs": [
    {
     "data": {
      "text/plain": [
       "array([-2.43395000e+03,  4.94518286e+06])"
      ]
     },
     "execution_count": 157,
     "metadata": {},
     "output_type": "execute_result"
    }
   ],
   "source": [
    "x= np.arange(2010,2019)\n",
    "y= [sum(felonies_pre19['Arrest Date'].dt.year==ye) for ye in np.arange(2010,2019)]\n",
    "np.polyfit(x,y,1)"
   ]
  },
  {
   "cell_type": "markdown",
   "metadata": {},
   "source": [
    "let's predict the value for 2019"
   ]
  },
  {
   "cell_type": "code",
   "execution_count": 160,
   "metadata": {},
   "outputs": [
    {
     "data": {
      "text/plain": [
       "31037.81000000052"
      ]
     },
     "execution_count": 160,
     "metadata": {},
     "output_type": "execute_result"
    }
   ],
   "source": [
    "(2019*-2.43395000e+03)+4.94518286e+06"
   ]
  },
  {
   "cell_type": "markdown",
   "metadata": {},
   "source": [
    "## Question 6"
   ]
  },
  {
   "cell_type": "markdown",
   "metadata": {},
   "source": [
    "How many arrest incidents were made per kilometer on Pico Boulevard during 2018? \n",
    "For this question, we will need to estimate the length of Pico Boulevard, which mostly stretches from east to west. To estimate the length of Pico Boulevard:\n",
    "\n",
    "    Consider all location data which the listed address mentions \"Pico\".\n",
    "    "
   ]
  },
  {
   "cell_type": "code",
   "execution_count": 191,
   "metadata": {
    "scrolled": true
   },
   "outputs": [],
   "source": [
    "pico_add = data_2018.iloc[np.where(['PICO' in i for i in data_2018['Address'].values])[0]]"
   ]
  },
  {
   "cell_type": "markdown",
   "metadata": {},
   "source": [
    "Remove outliers by filtering out locations where either the latitude or longitude is 2 standard deviations beyond the mean of the subset of identified points."
   ]
  },
  {
   "cell_type": "code",
   "execution_count": 202,
   "metadata": {},
   "outputs": [],
   "source": [
    "from ast import literal_eval as make_tuple"
   ]
  },
  {
   "cell_type": "code",
   "execution_count": 205,
   "metadata": {},
   "outputs": [],
   "source": [
    "longlats = [make_tuple(i) for i in pico_add['Location'].values]"
   ]
  },
  {
   "cell_type": "code",
   "execution_count": 242,
   "metadata": {},
   "outputs": [],
   "source": [
    "lat_min = np.mean([i[0] for i in longlats])-2*np.std([i[0] for i in longlats]) \n",
    "lat_max = np.mean([i[0] for i in longlats])+2*np.std([i[0] for i in longlats]) \n",
    "\n",
    "long_min = np.mean([i[1] for i in longlats])-2*np.std([i[1] for i in longlats]) \n",
    "long_max = np.mean([i[1] for i in longlats])+2*np.std([i[1] for i in longlats]) "
   ]
  },
  {
   "cell_type": "code",
   "execution_count": 228,
   "metadata": {},
   "outputs": [],
   "source": [
    "clean_longlats = np.array(longlats)[np.where([(lat_min<i[0]<lat_max) and (long_min<i[1]<long_max) for i in longlats])[0]]"
   ]
  },
  {
   "cell_type": "code",
   "execution_count": 243,
   "metadata": {},
   "outputs": [
    {
     "data": {
      "text/plain": [
       "<matplotlib.collections.PathCollection at 0x138ec1d90>"
      ]
     },
     "execution_count": 243,
     "metadata": {},
     "output_type": "execute_result"
    },
    {
     "data": {
      "image/png": "[encoded data removed]",
      "text/plain": [
       "<Figure size 432x288 with 1 Axes>"
      ]
     },
     "metadata": {
      "needs_background": "light"
     },
     "output_type": "display_data"
    }
   ],
   "source": [
    "clean_lats = [i[0] for i in clean_longlats]\n",
    "clean_longs = [i[1] for i in clean_longlats]\n",
    "plt.scatter(clean_lats,clean_longs)"
   ]
  },
  {
   "cell_type": "markdown",
   "metadata": {},
   "source": [
    "To estimate the length, calculate the distance from the most western and eastern coordinate points. Use the spherical Earth projected to a plane equation for calculating distances.\n"
   ]
  },
  {
   "cell_type": "code",
   "execution_count": 245,
   "metadata": {},
   "outputs": [],
   "source": [
    "import math"
   ]
  },
  {
   "cell_type": "code",
   "execution_count": 252,
   "metadata": {},
   "outputs": [],
   "source": [
    "def geographical_distance (latitudeA, longitudeA, latitudeB, longitudeB):\n",
    "    # Degrees to radians\n",
    "    delta_latitude  = math.radians(latitudeB  - latitudeA)\n",
    "    delta_longitude = math.radians(longitudeB - longitudeA)\n",
    "    mean_latitude   = math.radians((latitudeA + latitudeB) / 2.0 )\n",
    " \n",
    "    R = 6371 # Km\n",
    "    # Spherical Earth projected to a plane  \n",
    "    dist = R*math.sqrt(math.pow(delta_latitude,2)+math.pow(math.cos(mean_latitude) *delta_longitude, 2) )\n",
    "    return dist"
   ]
  },
  {
   "cell_type": "code",
   "execution_count": 253,
   "metadata": {},
   "outputs": [],
   "source": [
    "pico_kms = geographical_distance(clean_longlats[np.argmax(clean_lats)][0],clean_longlats[np.argmax(clean_lats)][1],\n",
    "                      clean_longlats[np.argmin(clean_lats)][0],clean_longlats[np.argmin(clean_lats)][1])"
   ]
  },
  {
   "cell_type": "markdown",
   "metadata": {},
   "source": [
    "\n",
    "Once you have estimated the length of Pico Boulevard, you can proceed to report the number of arrest incidents per kilometer on Pico Boulevard in 2018."
   ]
  },
  {
   "cell_type": "code",
   "execution_count": 254,
   "metadata": {},
   "outputs": [
    {
     "data": {
      "text/plain": [
       "38.444910749969615"
      ]
     },
     "execution_count": 254,
     "metadata": {},
     "output_type": "execute_result"
    }
   ],
   "source": [
    "len(clean_longlats)/pico_kms"
   ]
  },
  {
   "cell_type": "markdown",
   "metadata": {},
   "source": [
    "## Question 7\n",
    "How many arrest incidents occurred within 2 km from the Bradbury Building in 2018? Use (34.050536, -118.247861) for the coordinates of the Bradbury Building.\n",
    "\n",
    "For simplicity, please use the spherical Earth projected to a plane equation for calculating distances. Use the radius of the Earth as 6371 km. \n",
    "\n",
    "Note, some arrest records are missing location data and the location is listed as (0, 0). These records should not factor in your calculation."
   ]
  },
  {
   "cell_type": "code",
   "execution_count": 265,
   "metadata": {},
   "outputs": [],
   "source": [
    "data_2018_latlong = [make_tuple(i) for i in data_2018['Location'].values]\n",
    "data_2018_latlong = [i for i in data_2018_latlong if i!= (0,0)]"
   ]
  },
  {
   "cell_type": "code",
   "execution_count": 266,
   "metadata": {},
   "outputs": [
    {
     "data": {
      "text/plain": [
       "(34.0949, -118.3109)"
      ]
     },
     "execution_count": 266,
     "metadata": {},
     "output_type": "execute_result"
    }
   ],
   "source": [
    "[0]"
   ]
  },
  {
   "cell_type": "code",
   "execution_count": 281,
   "metadata": {},
   "outputs": [],
   "source": [
    "bradbury_incidents = [geographical_distance(34.050536, -118.247861, i[0], i[1])<=2 for i in data_2018_latlong]"
   ]
  },
  {
   "cell_type": "code",
   "execution_count": 282,
   "metadata": {},
   "outputs": [
    {
     "data": {
      "text/plain": [
       "11461"
      ]
     },
     "execution_count": 282,
     "metadata": {},
     "output_type": "execute_result"
    }
   ],
   "source": [
    "sum(bradbury_incidents)"
   ]
  },
  {
   "cell_type": "markdown",
   "metadata": {},
   "source": [
    "let's do a quick visual check"
   ]
  },
  {
   "cell_type": "code",
   "execution_count": 277,
   "metadata": {},
   "outputs": [],
   "source": [
    "bradbury_pos = np.array(data_2018_latlong)[np.where(bradbury_incidents)[0]]"
   ]
  },
  {
   "cell_type": "code",
   "execution_count": 280,
   "metadata": {},
   "outputs": [
    {
     "data": {
      "text/plain": [
       "<matplotlib.collections.PathCollection at 0x1431eb990>"
      ]
     },
     "execution_count": 280,
     "metadata": {},
     "output_type": "execute_result"
    },
    {
     "data": {
      "image/png": "[encoded data removed]",
      "text/plain": [
       "<Figure size 432x288 with 1 Axes>"
      ]
     },
     "metadata": {
      "needs_background": "light"
     },
     "output_type": "display_data"
    }
   ],
   "source": [
    "plt.scatter(clean_lats,clean_longs)\n",
    "plt.scatter([i[0] for i in bradbury_pos], [i[1] for i in bradbury_pos])"
   ]
  },
  {
   "cell_type": "markdown",
   "metadata": {},
   "source": [
    "## Question 8\n",
    "\n",
    "Some types of arrest incidents in certain areas occur at a highly disproportionate rate compared to their frequency city-wide. For example, let's say that the rate of larceny arrests (charge group code 6) is 1% in Devonshire (area ID 17). This rate may appear low but what if larceny arrests constitute 0.1 % city-wide? The ratio between these two probabilities is 10 and we can say that larceny occurs unusually often in Devonshire (Note, these numbers were made up for illustration purposes). Calculate this ratio for all charge group code and area ID pairs. You can view this ratio as the ratio of the conditional probability of an arrest incident of a charge group code given that it occurred in an area ID to the unconditional probability of the arrest incident of a charge group. Report the average of the top 5 of the calculated ratio.\n",
    "\n",
    "    Consider all records prior to January 1, 2019.\n",
    "    Some arrest incidents don't have a charge group code. \n",
    "    These records should not be considered in your analysis.\n",
    "    Arrest incidents for charge group code 99 should not be considered in your analysis.\n",
    "\n"
   ]
  },
  {
   "cell_type": "code",
   "execution_count": 284,
   "metadata": {},
   "outputs": [],
   "source": [
    "data_pre19 = data[data['Arrest Date'].dt.year<2019]\n",
    "charges_not_nan = np.where([not np.isnan(i) and i!=99 for i in data_pre19['Charge Group Code'].values ])[0]\n",
    "data_pre19_clean = data_pre19.iloc[charges_not_nan]"
   ]
  },
  {
   "cell_type": "code",
   "execution_count": 311,
   "metadata": {},
   "outputs": [],
   "source": [
    "area_codes = np.unique(data_pre19_clean['Area ID'].values)"
   ]
  },
  {
   "cell_type": "code",
   "execution_count": 328,
   "metadata": {},
   "outputs": [],
   "source": [
    "dlist = [Counter(data_pre19_clean['Charge Group Code'].values)]\n",
    "\n",
    "for i in area_codes:\n",
    "    dic = Counter(data_pre19_clean.query(\"`Area ID`==@i\")['Charge Group Code'].values)\n",
    "    dlist.append(dic)"
   ]
  },
  {
   "cell_type": "code",
   "execution_count": 329,
   "metadata": {},
   "outputs": [],
   "source": [
    "# put frequency dicts into dataframe\n",
    "df = pd.DataFrame(dlist)\n",
    "# get ratios\n",
    "df_ratios = (df.T / df.T.sum()).T"
   ]
  },
  {
   "cell_type": "markdown",
   "metadata": {},
   "source": [
    "get the ratio over city wide frequencies"
   ]
  },
  {
   "cell_type": "code",
   "execution_count": 339,
   "metadata": {},
   "outputs": [],
   "source": [
    "ratios = df_ratios.iloc[1:]/df_ratios.iloc[0]"
   ]
  },
  {
   "cell_type": "markdown",
   "metadata": {},
   "source": [
    "let's get the top 5 values"
   ]
  },
  {
   "cell_type": "code",
   "execution_count": 347,
   "metadata": {},
   "outputs": [
    {
     "data": {
      "text/plain": [
       "3.515076379865202"
      ]
     },
     "execution_count": 347,
     "metadata": {},
     "output_type": "execute_result"
    }
   ],
   "source": [
    "np.mean(np.sort(np.ndarray.flatten(ratios.values))[::-1][:5])"
   ]
  },
  {
   "cell_type": "markdown",
   "metadata": {},
   "source": [
    "### SCRIPT"
   ]
  },
  {
   "cell_type": "code",
   "execution_count": 3,
   "metadata": {},
   "outputs": [
    {
     "data": {
      "text/plain": [
       "3.515076379865202"
      ]
     },
     "execution_count": 3,
     "metadata": {},
     "output_type": "execute_result"
    }
   ],
   "source": [
    "import pandas as pd\n",
    "import numpy as np\n",
    "import datetime as dt\n",
    "from collections import Counter\n",
    "\n",
    "data = pd.read_csv('../Arrest_Data_from_2010_to_Present.csv')\n",
    "data[\"Arrest Date\"] = pd.to_datetime(data[\"Arrest Date\"])\n",
    "\n",
    "data_pre19 = data[data['Arrest Date'].dt.year<2019]\n",
    "charges_not_nan = np.where([not np.isnan(i) and i!=99 for i in data_pre19['Charge Group Code'].values ])[0]\n",
    "data_pre19_clean = data_pre19.iloc[charges_not_nan]\n",
    "\n",
    "area_codes = np.unique(data_pre19_clean['Area ID'].values)\n",
    "\n",
    "# let's initialise list with city wide frequencies of incident types \n",
    "dlist = [Counter(data_pre19_clean['Charge Group Code'].values)]\n",
    "\n",
    "for i in area_codes:\n",
    "    # get frequencies given area ID\n",
    "    dic = Counter(data_pre19_clean.query(\"`Area ID`==@i\")['Charge Group Code'].values)\n",
    "    dlist.append(dic)\n",
    "    \n",
    "# put frequency dicts into dataframe\n",
    "df = pd.DataFrame(dlist)\n",
    "# get ratios\n",
    "df_ratios = (df.T / df.T.sum()).T\n",
    "\n",
    "# get the ratio over city wide frequencies\n",
    "ratios = df_ratios.iloc[1:]/df_ratios.iloc[0]\n",
    "\n",
    "# let's get the mean of the top 5 values\n",
    "np.mean(np.sort(np.ndarray.flatten(ratios.values))[::-1][:5])\n",
    "### result: 3.515076379865202"
   ]
  },
  {
   "cell_type": "markdown",
   "metadata": {},
   "source": [
    "# Part 2"
   ]
  },
  {
   "cell_type": "markdown",
   "metadata": {},
   "source": [
    "Consider a grid in d-dimensional space. There are n grid lines in each dimension, spaced one unit apart. We will consider a walk of m steps from grid intersection to grid intersection. Each step will be a single unit movement in any one of the dimensions, such that it says on the grid. We wish to look at the number of possible paths from a particular starting location on this grid."
   ]
  },
  {
   "cell_type": "code",
   "execution_count": 2,
   "metadata": {},
   "outputs": [],
   "source": [
    "import functools\n",
    "import networkx as nx"
   ]
  },
  {
   "cell_type": "code",
   "execution_count": 3,
   "metadata": {},
   "outputs": [],
   "source": [
    "@functools.lru_cache(maxsize=None)\n",
    "def findPaths(G,u,n):\n",
    "    if n==0:\n",
    "        return [[u]]\n",
    "    paths = [[u]+path for neighbor in G.neighbors(u) for path in findPaths(G,neighbor,n-1) ]\n",
    "    return paths"
   ]
  },
  {
   "cell_type": "markdown",
   "metadata": {},
   "source": [
    "first, test case:"
   ]
  },
  {
   "cell_type": "code",
   "execution_count": 4,
   "metadata": {},
   "outputs": [],
   "source": [
    "d = 3\n",
    "n = 4\n",
    "init = (0,0,0)\n",
    "walk_length = 2\n",
    "\n",
    "G = nx.grid_graph(dim=list(np.array(np.ones(d)*n,int)))"
   ]
  },
  {
   "cell_type": "code",
   "execution_count": 5,
   "metadata": {},
   "outputs": [
    {
     "data": {
      "text/plain": [
       "12"
      ]
     },
     "execution_count": 5,
     "metadata": {},
     "output_type": "execute_result"
    }
   ],
   "source": [
    "len(findPaths(G,init,walk_length))"
   ]
  },
  {
   "cell_type": "markdown",
   "metadata": {},
   "source": [
    "let's compare this with the adjacency matrix method"
   ]
  },
  {
   "cell_type": "code",
   "execution_count": 6,
   "metadata": {},
   "outputs": [
    {
     "data": {
      "text/plain": [
       "12"
      ]
     },
     "execution_count": 6,
     "metadata": {},
     "output_type": "execute_result"
    }
   ],
   "source": [
    "sum(np.array((nx.adjacency_matrix(G).todense()**walk_length))[0])"
   ]
  },
  {
   "cell_type": "code",
   "execution_count": 9,
   "metadata": {},
   "outputs": [],
   "source": [
    "init = (0, 0, 0, 0)\n",
    "walk_length = 10\n",
    "\n",
    "d = 4\n",
    "n = 10\n",
    "G = nx.grid_graph(dim=list(np.array(np.ones(d)*n,int)))"
   ]
  },
  {
   "cell_type": "markdown",
   "metadata": {},
   "source": [
    "let's get the sparse matrix"
   ]
  },
  {
   "cell_type": "code",
   "execution_count": 10,
   "metadata": {},
   "outputs": [],
   "source": [
    "sparse = nx.adjacency_matrix(G)\n",
    "sparse_n = sparse**walk_length"
   ]
  },
  {
   "cell_type": "code",
   "execution_count": 11,
   "metadata": {},
   "outputs": [
    {
     "data": {
      "text/plain": [
       "44569724"
      ]
     },
     "execution_count": 11,
     "metadata": {},
     "output_type": "execute_result"
    }
   ],
   "source": [
    "sum(np.array(sparse_n[0].todense())[0])"
   ]
  },
  {
   "cell_type": "markdown",
   "metadata": {},
   "source": [
    "Consider the count of valid walks associated with each possible starting position. What is the ratio of the highest count of valid walks to smallest count of valid walks?"
   ]
  },
  {
   "cell_type": "code",
   "execution_count": 12,
   "metadata": {},
   "outputs": [],
   "source": [
    "totalnodes = 10000"
   ]
  },
  {
   "cell_type": "code",
   "execution_count": 13,
   "metadata": {},
   "outputs": [],
   "source": [
    "all_init_walks = [sum(np.array(sparse_n[i].todense())[0]) for i in range(totalnodes)]"
   ]
  },
  {
   "cell_type": "code",
   "execution_count": 14,
   "metadata": {},
   "outputs": [
    {
     "data": {
      "text/plain": [
       "23.81209118548726"
      ]
     },
     "execution_count": 14,
     "metadata": {},
     "output_type": "execute_result"
    }
   ],
   "source": [
    "max(all_init_walks)/ min(all_init_walks)"
   ]
  },
  {
   "cell_type": "markdown",
   "metadata": {},
   "source": [
    "Consider the count of valid walks associated with each possible starting position. What is the ratio of the standard deviation of the number of valid walks to the mean of the number of valid walks?"
   ]
  },
  {
   "cell_type": "code",
   "execution_count": 15,
   "metadata": {},
   "outputs": [
    {
     "data": {
      "text/plain": [
       "0.5106573744484553"
      ]
     },
     "execution_count": 15,
     "metadata": {},
     "output_type": "execute_result"
    }
   ],
   "source": [
    "np.std(all_init_walks)/np.mean(all_init_walks)"
   ]
  },
  {
   "cell_type": "markdown",
   "metadata": {},
   "source": [
    "Now, let's consider the case where d=8, n=12, and m=12.\n",
    "\n",
    "How many valid walks start from one of the corners?"
   ]
  },
  {
   "cell_type": "code",
   "execution_count": null,
   "metadata": {},
   "outputs": [],
   "source": [
    "init = (0, 0, 0, 0, 0, 0, 0, 0)\n",
    "walk_length = 12\n",
    "3\n",
    "d = 8\n",
    "n = 12\n",
    "# G = nx.grid_graph(dim=list(np.array(np.ones(d)*n,int)))"
   ]
  },
  {
   "cell_type": "markdown",
   "metadata": {},
   "source": [
    "can we create the adjacency directly?"
   ]
  },
  {
   "cell_type": "code",
   "execution_count": null,
   "metadata": {},
   "outputs": [],
   "source": []
  },
  {
   "cell_type": "code",
   "execution_count": null,
   "metadata": {},
   "outputs": [],
   "source": []
  },
  {
   "cell_type": "code",
   "execution_count": null,
   "metadata": {},
   "outputs": [],
   "source": []
  }
 ],
 "metadata": {
  "kernelspec": {
   "display_name": "Python 3",
   "language": "python",
   "name": "python3"
  },
  "language_info": {
   "codemirror_mode": {
    "name": "ipython",
    "version": 3
   },
   "file_extension": ".py",
   "mimetype": "text/x-python",
   "name": "python",
   "nbconvert_exporter": "python",
   "pygments_lexer": "ipython3",
   "version": "3.7.5"
  },
  "toc": {
   "base_numbering": 1,
   "nav_menu": {},
   "number_sections": true,
   "sideBar": true,
   "skip_h1_title": true,
   "title_cell": "Table of Contents",
   "title_sidebar": "Contents",
   "toc_cell": false,
   "toc_position": {},
   "toc_section_display": true,
   "toc_window_display": true
  }
 },
 "nbformat": 4,
 "nbformat_minor": 2
}
