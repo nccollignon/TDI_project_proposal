{
 "cells": [
  {
   "cell_type": "markdown",
   "metadata": {},
   "source": [
    "- 1) Calculate the carbon footprint of as many recipes as possible\n",
    "    - 1a)  Convert all quantities to kg\n",
    "    - 1b)  Find the most important ingredients missing on the tmrowapp-contrib datasets\n",
    "    - 1c)  Create \"mean\"(average) recipes\n",
    "- 2) Find more C02 friendly alternative recipes based on a recipe\n",
    "- 3) Allow users to take a picture to match it to a recipe and thus it's carbon footprint\n",
    "- 4) recommendation/exploring interfaces with user input e.g. grams of protein."
   ]
  },
  {
   "cell_type": "code",
   "execution_count": 1,
   "metadata": {},
   "outputs": [],
   "source": [
    "import numpy as np\n",
    "import json\n",
    "\n",
    "from IPython.display import HTML"
   ]
  },
  {
   "cell_type": "code",
   "execution_count": 2,
   "metadata": {},
   "outputs": [
    {
     "data": {
      "text/html": [
       "<script type='text/javascript'>var subj='2 tsp feta'</script><script language='JavaScript' src='../test2.js' type='text/javascript'></script>"
      ],
      "text/plain": [
       "<IPython.core.display.HTML object>"
      ]
     },
     "execution_count": 2,
     "metadata": {},
     "output_type": "execute_result"
    }
   ],
   "source": [
    "recipe_line = \"'2 tsp feta'\"\n",
    "text = \"<script type='text/javascript'>var subj=\"+recipe_line+\"</script><script language='JavaScript' src='../test2.js' type='text/javascript'></script>\"\n",
    "HTML(text)"
   ]
  },
  {
   "cell_type": "code",
   "execution_count": 3,
   "metadata": {},
   "outputs": [
    {
     "data": {
      "text/plain": [
       "'2 tsp feta [6 g]'"
      ]
     },
     "execution_count": 3,
     "metadata": {},
     "output_type": "execute_result"
    }
   ],
   "source": [
    "output"
   ]
  },
  {
   "cell_type": "code",
   "execution_count": 70,
   "metadata": {},
   "outputs": [],
   "source": [
    "with open('../recipe1M_layers/layer1.json', 'r') as f:\n",
    "    array = json.load(f)"
   ]
  },
  {
   "cell_type": "code",
   "execution_count": 74,
   "metadata": {},
   "outputs": [],
   "source": [
    "ar_samples = np.random.choice(len(array),500)\n",
    "ar_samples = np.array(array)[ar_samples]"
   ]
  },
  {
   "cell_type": "code",
   "execution_count": 165,
   "metadata": {},
   "outputs": [
    {
     "data": {
      "text/plain": [
       "{'text': '1 teaspoon paprika'}"
      ]
     },
     "execution_count": 165,
     "metadata": {},
     "output_type": "execute_result"
    }
   ],
   "source": [
    "ar_samples[5]['ingredients'][5]"
   ]
  },
  {
   "cell_type": "code",
   "execution_count": 4,
   "metadata": {},
   "outputs": [
    {
     "data": {
      "text/html": [
       "<script type='text/javascript'>var subj='14 ounces, fluid Can Sweetened Condensed Milk'</script><script language='JavaScript' src='../test2.js' type='text/javascript'></script>"
      ],
      "text/plain": [
       "<IPython.core.display.HTML object>"
      ]
     },
     "execution_count": 4,
     "metadata": {},
     "output_type": "execute_result"
    }
   ],
   "source": [
    "recipe_line = \"'14 ounces, fluid Can Sweetened Condensed Milk'\"\n",
    "text = \"<script type='text/javascript'>var subj=\"+recipe_line+\"</script><script language='JavaScript' src='../test2.js' type='text/javascript'></script>\"\n",
    "HTML(text)"
   ]
  },
  {
   "cell_type": "code",
   "execution_count": 5,
   "metadata": {},
   "outputs": [
    {
     "data": {
      "text/plain": [
       "'14 ounces [400 g], fluid Can Sweetened Condensed Milk'"
      ]
     },
     "execution_count": 5,
     "metadata": {},
     "output_type": "execute_result"
    }
   ],
   "source": [
    "output"
   ]
  },
  {
   "cell_type": "code",
   "execution_count": null,
   "metadata": {},
   "outputs": [],
   "source": []
  }
 ],
 "metadata": {
  "kernelspec": {
   "display_name": "Python 3",
   "language": "python",
   "name": "python3"
  },
  "toc": {
   "base_numbering": 1,
   "nav_menu": {},
   "number_sections": true,
   "sideBar": true,
   "skip_h1_title": true,
   "title_cell": "Table of Contents",
   "title_sidebar": "Contents",
   "toc_cell": false,
   "toc_position": {},
   "toc_section_display": true,
   "toc_window_display": false
  }
 },
 "nbformat": 4,
 "nbformat_minor": 2
}
