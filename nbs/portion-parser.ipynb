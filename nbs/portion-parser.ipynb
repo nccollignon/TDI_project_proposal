{
 "cells": [
  {
   "cell_type": "markdown",
   "metadata": {},
   "source": [
    "- 1) Calculate the carbon footprint of as many recipes as possible\n",
    "    - 1a)  Convert all quantities to kg\n",
    "    - 1b)  Find the most important ingredients missing on the tmrowapp-contrib datasets\n",
    "    - 1c)  Create \"mean\"(average) recipes\n",
    "- 2) Find more C02 friendly alternative recipes based on a recipe\n",
    "- 3) Allow users to take a picture to match it to a recipe and thus it's carbon footprint\n",
    "- 4) recommendation/exploring interfaces with user input e.g. grams of protein."
   ]
  },
  {
   "cell_type": "code",
   "execution_count": 324,
   "metadata": {},
   "outputs": [],
   "source": [
    "import numpy as np\n"
   ]
  },
  {
   "cell_type": "code",
   "execution_count": 317,
   "metadata": {},
   "outputs": [],
   "source": [
    "def get_portion(string):\n",
    "    f = open('../test2.js', 'r')\n",
    "    content = f.read()\n",
    "    content = content.replace(\"subj\",\"\\\"\"+string+\"\\\"\")\n",
    "    ctx = py_mini_racer.MiniRacer()\n",
    "    return ctx.eval(content)"
   ]
  },
  {
   "cell_type": "code",
   "execution_count": null,
   "metadata": {},
   "outputs": [],
   "source": [
    "with open('../recipe1M_layers/layer1.json', 'r') as f:\n",
    "    array = json.load(f)"
   ]
  },
  {
   "cell_type": "code",
   "execution_count": 5,
   "metadata": {},
   "outputs": [],
   "source": [
    "ar_samples = np.random.choice(len(array),500)\n",
    "ar_samples = np.array(array)[ar_samples]"
   ]
  },
  {
   "cell_type": "code",
   "execution_count": 323,
   "metadata": {},
   "outputs": [
    {
     "data": {
      "text/plain": [
       "['13 cup butter [3 kg]',\n",
       " '14 cup sugar [2.75 kg]',\n",
       " '4 tablespoons cocoa powder [22 g]',\n",
       " '1 egg',\n",
       " '1 teaspoon [5 ml] vanilla extract',\n",
       " '1 12 cups [2.8 l] chocolate cookie crumbs',\n",
       " '1 cup [240 ml] grated unsweetened coconut',\n",
       " '13 cup almonds [1.9 kg], toasted and chopped',\n",
       " '12 cup butter [2.75 kg], room temperature',\n",
       " '1 12 tablespoons [175 ml] custard powder',\n",
       " '14 cup [3.25 l] nonfat milk',\n",
       " '2 teaspoons [10 ml] vanilla',\n",
       " '2 12 cups icing sugar [1.4 kg], sifted',\n",
       " '8 ounces [225 g] semisweet chocolate, chopped',\n",
       " '2 tablespoons unsalted butter [28 g]']"
      ]
     },
     "execution_count": 323,
     "metadata": {},
     "output_type": "execute_result"
    }
   ],
   "source": [
    "[get_portion(ingr['text']) for ingr in ar_samples[0]['ingredients']]"
   ]
  },
  {
   "cell_type": "code",
   "execution_count": null,
   "metadata": {},
   "outputs": [],
   "source": []
  }
 ],
 "metadata": {
  "kernelspec": {
   "display_name": "Python 3",
   "language": "python",
   "name": "python3"
  },
  "language_info": {
   "codemirror_mode": {
    "name": "ipython",
    "version": 3
   },
   "file_extension": ".py",
   "mimetype": "text/x-python",
   "name": "python",
   "nbconvert_exporter": "python",
   "pygments_lexer": "ipython3",
   "version": "3.7.5"
  },
  "toc": {
   "base_numbering": 1,
   "nav_menu": {},
   "number_sections": true,
   "sideBar": true,
   "skip_h1_title": true,
   "title_cell": "Table of Contents",
   "title_sidebar": "Contents",
   "toc_cell": false,
   "toc_position": {},
   "toc_section_display": true,
   "toc_window_display": false
  }
 },
 "nbformat": 4,
 "nbformat_minor": 2
}
